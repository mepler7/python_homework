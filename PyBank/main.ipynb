{
 "cells": [
  {
   "cell_type": "code",
   "execution_count": 54,
   "id": "processed-there",
   "metadata": {},
   "outputs": [],
   "source": [
    "from pathlib import Path\n",
    "import csv"
   ]
  },
  {
   "cell_type": "code",
   "execution_count": 55,
   "id": "thrown-control",
   "metadata": {},
   "outputs": [],
   "source": [
    "#Define the path to access CSV file\n",
    "csvpath = Path(r\"C:/Users/User/nu-chi-fin-pt-01-2021-u-c/02-Python/HW-02-Python/Instructions/PyBank/Resources/budget_data.csv\")"
   ]
  },
  {
   "cell_type": "code",
   "execution_count": 56,
   "id": "southern-drama",
   "metadata": {},
   "outputs": [
    {
     "name": "stdout",
     "output_type": "stream",
     "text": [
      "Financial Analysis\n",
      "---------------------------------\n",
      "Total Months: $86\n",
      "Total: $38382578\n",
      "Average Change: $-2315.12\n",
      "Greatest Increase in Profits: Jan-2012 ($1926159)\n",
      "Greatest Decrease in Profits: Aug-2013 ($-2196167)\n"
     ]
    }
   ],
   "source": [
    "#create lists for future use and reference\n",
    "profit = []\n",
    "monthly_change_profit = []\n",
    "months = []\n",
    "\n",
    "#open/read the csv as object 'csvfile' and define csvreader with comma as separator. Update header so first column is index[0]\n",
    "with open(csvpath, 'r') as csvfile:\n",
    "    csvreader = csv.reader(csvfile, delimiter=',')\n",
    "    csvheader = next(csvreader)\n",
    "    \n",
    "#add 'append' row[0]:(for total_months) and int(row[1]):(for net_profit as integer). Lists now full with data for future calling  \n",
    "    for row in csvreader:\n",
    "        months.append(row[0])\n",
    "        profit.append(int(row[1]))\n",
    "        \n",
    "#add differences in monthly changes to fill list monthly_change_profit[]\n",
    "# by taking net profits from next row and subtracting from the current         \n",
    "    for month in range(len(profit) - 1):\n",
    "        monthly_change_profit.append(profit[month+1] - profit[month])\n",
    "\n",
    "#define average change variable for third output\n",
    "average_change = round(sum(monthly_change_profit)/len(monthly_change_profit), 2)\n",
    "net_profit = sum(profit)\n",
    "total_months = len(months)\n",
    "\n",
    "#find the value and date for biggest increase and decrease in monthly change\n",
    "# value from max/min function and date from index of monthly_change_profit\n",
    "max_increase_value = max(monthly_change_profit)\n",
    "max_decrease_value = min(monthly_change_profit)\n",
    "\n",
    "max_increase_month = monthly_change_profit.index(max(monthly_change_profit))\n",
    "max_decrease_month = monthly_change_profit.index(min(monthly_change_profit))\n",
    "\n",
    "\n",
    "#Print reflecting mirrored output\n",
    "print(\"Financial Analysis\")\n",
    "print(\"---------------------------------\")\n",
    "print(f\"Total Months: ${total_months}\")\n",
    "print(f\"Total: ${net_profit}\")\n",
    "print(f\"Average Change: ${average_change}\")\n",
    "print(f\"Greatest Increase in Profits: {months[max_increase_month]} (${max_increase_value})\")\n",
    "print(f\"Greatest Decrease in Profits: {months[max_decrease_month]} (${max_decrease_value})\")\n",
    "\n",
    "#set output file path\n",
    "output_path = Path(r\"C:\\Users\\User\\Desktop\\python_homework\\PyBank\\output.txt\")\n",
    "#write to the output path the same print statements for text file\n",
    "with open(output_path, 'w') as file:\n",
    "    file.write(\"Financial Analysis \\n\")\n",
    "    file.write(\"----------------------------- \\n\")\n",
    "    file.write(f\"Total Months: ${total_months} \\n\")\n",
    "    file.write(f\"Total: ${net_profit} \\n\")\n",
    "    file.write(f\"Average Change: ${average_change} \\n\")\n",
    "    file.write(f\"Greatest Increase in Profits: {months[max_increase_month]} (${max_increase_value}) \\n\")\n",
    "    file.write(f\"Greatest Decrease in Profits: {months[max_decrease_month]} (${max_decrease_value}) \\n\")"
   ]
  },
  {
   "cell_type": "code",
   "execution_count": null,
   "id": "variable-character",
   "metadata": {},
   "outputs": [],
   "source": []
  },
  {
   "cell_type": "code",
   "execution_count": null,
   "id": "controlled-victim",
   "metadata": {},
   "outputs": [],
   "source": []
  },
  {
   "cell_type": "code",
   "execution_count": null,
   "id": "mature-mauritius",
   "metadata": {},
   "outputs": [],
   "source": []
  }
 ],
 "metadata": {
  "kernelspec": {
   "display_name": "Python 3",
   "language": "python",
   "name": "python3"
  },
  "language_info": {
   "codemirror_mode": {
    "name": "ipython",
    "version": 3
   },
   "file_extension": ".py",
   "mimetype": "text/x-python",
   "name": "python",
   "nbconvert_exporter": "python",
   "pygments_lexer": "ipython3",
   "version": "3.8.5"
  }
 },
 "nbformat": 4,
 "nbformat_minor": 5
}
